{
 "cells": [
  {
   "cell_type": "code",
   "execution_count": 1,
   "id": "ef3c064a-e7b6-4916-a042-ec1840f70cda",
   "metadata": {},
   "outputs": [
    {
     "name": "stderr",
     "output_type": "stream",
     "text": [
      "2024-06-25 09:28:08.946279: I external/local_tsl/tsl/cuda/cudart_stub.cc:32] Could not find cuda drivers on your machine, GPU will not be used.\n",
      "2024-06-25 09:28:09.128456: I tensorflow/core/platform/cpu_feature_guard.cc:210] This TensorFlow binary is optimized to use available CPU instructions in performance-critical operations.\n",
      "To enable the following instructions: AVX2 FMA, in other operations, rebuild TensorFlow with the appropriate compiler flags.\n",
      "2024-06-25 09:28:10.344280: W tensorflow/compiler/tf2tensorrt/utils/py_utils.cc:38] TF-TRT Warning: Could not find TensorRT\n"
     ]
    }
   ],
   "source": [
    "from inspect import signature\n",
    "from transformers import pipeline\n",
    "import findspark\n",
    "findspark.init()\n",
    "import pyspark\n",
    "from pyspark.sql import SparkSession, Row\n",
    "import pandas as pd\n",
    "from pyspark.sql.functions import col, struct, pandas_udf, size, count\n",
    "from pyspark.ml.functions import predict_batch_udf\n",
    "from pyspark.sql.types import FloatType, StringType, StructField, StructType, ArrayType\n",
    "from pyspark.sql.functions import lower, regexp_replace, split, explode, array_contains, udf\n",
    "import spacy"
   ]
  },
  {
   "cell_type": "code",
   "execution_count": 2,
   "id": "0b865a9e-e17a-4414-b46e-27f0a753f78f",
   "metadata": {},
   "outputs": [
    {
     "name": "stderr",
     "output_type": "stream",
     "text": [
      "Setting default log level to \"WARN\".\n",
      "To adjust logging level use sc.setLogLevel(newLevel). For SparkR, use setLogLevel(newLevel).\n",
      "24/06/25 09:28:14 WARN NativeCodeLoader: Unable to load native-hadoop library for your platform... using builtin-java classes where applicable\n"
     ]
    },
    {
     "data": {
      "text/html": [
       "\n",
       "            <div>\n",
       "                <p><b>SparkSession - in-memory</b></p>\n",
       "                \n",
       "        <div>\n",
       "            <p><b>SparkContext</b></p>\n",
       "\n",
       "            <p><a href=\"http://archlinux:4040\">Spark UI</a></p>\n",
       "\n",
       "            <dl>\n",
       "              <dt>Version</dt>\n",
       "                <dd><code>v3.5.1</code></dd>\n",
       "              <dt>Master</dt>\n",
       "                <dd><code>local[*]</code></dd>\n",
       "              <dt>AppName</dt>\n",
       "                <dd><code>CommentBrandRecognition</code></dd>\n",
       "            </dl>\n",
       "        </div>\n",
       "        \n",
       "            </div>\n",
       "        "
      ],
      "text/plain": [
       "<pyspark.sql.session.SparkSession at 0x70d02ca914c0>"
      ]
     },
     "execution_count": 2,
     "metadata": {},
     "output_type": "execute_result"
    }
   ],
   "source": [
    "spark = SparkSession.builder \\\n",
    "    .appName(\"CommentBrandRecognition\") \\\n",
    "    .getOrCreate()\n",
    "spark\n"
   ]
  },
  {
   "cell_type": "code",
   "execution_count": 3,
   "id": "a70d529a-14e8-4bed-97d0-bafb4a3f7e8a",
   "metadata": {},
   "outputs": [
    {
     "name": "stdout",
     "output_type": "stream",
     "text": [
      "+--------------------+\n",
      "|             comment|\n",
      "+--------------------+\n",
      "|                Help|\n",
      "|Top 5&#39;s are A...|\n",
      "|Nokia was the pri...|\n",
      "|how do you make t...|\n",
      "|🇺🇸🤞🇰🇷:1🇯🇵:...|\n",
      "|Starbucks only +12😂|\n",
      "|I still don&#39;t...|\n",
      "|Samsung!! made by...|\n",
      "|Google: Growing<b...|\n",
      "|Apple has got roc...|\n",
      "|2018 tk tesla ka ...|\n",
      "|I am preparing su...|\n",
      "|             Nokia❤️|\n",
      "|       Apple💣💣💣❤️|\n",
      "|Is bad samsung is...|\n",
      "|I am statistic lo...|\n",
      "|  Name of this song?|\n",
      "|when Apple appear...|\n",
      "|\"<a href=\"\"https:...|\n",
      "|If it&#39;s upto ...|\n",
      "+--------------------+\n",
      "only showing top 20 rows\n",
      "\n"
     ]
    }
   ],
   "source": [
    "# Assuming your comments are in a CSV file named 'comments.csv'\n",
    "df = spark.read.csv('comments.csv', header=True)  # Assuming header row exists\n",
    "\n",
    "# Replace 'comment_text' with the actual column name containing your comments\n",
    "df = df.select('comment')  # Select only the comment column\n",
    "df.show(20)"
   ]
  },
  {
   "cell_type": "code",
   "execution_count": 4,
   "id": "ae340e30-da1d-469e-a9b7-917eecce5288",
   "metadata": {},
   "outputs": [
    {
     "data": {
      "text/plain": [
       "8565"
      ]
     },
     "execution_count": 4,
     "metadata": {},
     "output_type": "execute_result"
    }
   ],
   "source": [
    "df.count()"
   ]
  },
  {
   "cell_type": "code",
   "execution_count": 5,
   "id": "1db2d848-91d5-4022-80ca-37026fd961dc",
   "metadata": {},
   "outputs": [],
   "source": [
    "nlp = spacy.load(\"en_core_web_sm\") "
   ]
  },
  {
   "cell_type": "code",
   "execution_count": 6,
   "id": "e911bb31-5c9b-4456-89e2-0bd94ed78348",
   "metadata": {},
   "outputs": [],
   "source": [
    "\n",
    "# Define UDF for spaCy NER\n",
    "def spacy_brand_recognition(text):\n",
    "  \"\"\"\n",
    "  UDF that uses spaCy to identify brands (ORG entities) in text.\n",
    "\n",
    "  Args:\n",
    "      text: A string containing the comment text.\n",
    "\n",
    "  Returns:\n",
    "      A list of brand names identified in the text (empty list if none found).\n",
    "  \"\"\"\n",
    "  doc = nlp(text)\n",
    "  brands = [ent.text for ent in doc.ents if ent.label_ == \"ORG\"]\n",
    "  return brands"
   ]
  },
  {
   "cell_type": "code",
   "execution_count": 7,
   "id": "d469505f-3d94-42ef-8193-ee4ad7b604bc",
   "metadata": {},
   "outputs": [
    {
     "data": {
      "text/plain": [
       "<function __main__.spacy_brand_recognition(text)>"
      ]
     },
     "execution_count": 7,
     "metadata": {},
     "output_type": "execute_result"
    }
   ],
   "source": [
    "# Register UDF (optional, but improves readability)\n",
    "spark.udf.register(\"spacy_brand_recognition\", spacy_brand_recognition, ArrayType(StringType()))\n"
   ]
  },
  {
   "cell_type": "code",
   "execution_count": 8,
   "id": "e6890fdf-dcb6-42dd-962a-6ea92230c940",
   "metadata": {},
   "outputs": [],
   "source": [
    "# Preprocess text data\n",
    "preprocessed_df = df.withColumn(\"comment\", lower(col(\"comment\"))) \\\n",
    "  .withColumn(\"comment\", regexp_replace(col(\"comment\"), r\"[^\\w\\s]\", \"\")) \\\n",
    "  .withColumn(\"words\", split(col(\"comment\"), \" \"))\n"
   ]
  },
  {
   "cell_type": "code",
   "execution_count": 9,
   "id": "b56f3509-d659-4d7c-b1bf-8be99e4f3771",
   "metadata": {},
   "outputs": [],
   "source": [
    "brands_df = preprocessed_df.withColumn(\n",
    "    \"brands\",\n",
    "    udf(spacy_brand_recognition, ArrayType(StringType()))(col(\"comment\"))\n",
    ")\n"
   ]
  },
  {
   "cell_type": "code",
   "execution_count": 10,
   "id": "affd9557-eb30-46a5-be64-ce2249951426",
   "metadata": {},
   "outputs": [
    {
     "name": "stdout",
     "output_type": "stream",
     "text": [
      "Preprocessed DataFrame with Identified Brands:\n"
     ]
    },
    {
     "name": "stderr",
     "output_type": "stream",
     "text": [
      "[Stage 5:>                                                          (0 + 1) / 1]\r"
     ]
    },
    {
     "name": "stdout",
     "output_type": "stream",
     "text": [
      "+--------------------+--------------------+--------------------+\n",
      "|             comment|               words|              brands|\n",
      "+--------------------+--------------------+--------------------+\n",
      "|                help|              [help]|                  []|\n",
      "|top 539s are amer...|[top, 539s, are, ...|                  []|\n",
      "|nokia was the pri...|[nokia, was, the,...|             [nokia]|\n",
      "|how do you make t...|[how, do, you, ma...|                  []|\n",
      "|                 112|               [112]|                  []|\n",
      "|   starbucks only 12|[starbucks, only,...|                  []|\n",
      "|i still don39t un...|[i, still, don39t...|                  []|\n",
      "|samsung made by s...|[samsung, made, b...|           [samsung]|\n",
      "|google growingbra...|[google, growingb...|            [google]|\n",
      "|apple has got roc...|[apple, has, got,...|             [apple]|\n",
      "|2018 tk tesla ka ...|[2018, tk, tesla,...|                  []|\n",
      "|i am preparing su...|[i, am, preparing...|                  []|\n",
      "|               nokia|             [nokia]|             [nokia]|\n",
      "|               apple|             [apple]|             [apple]|\n",
      "|is bad samsung is...|[is, bad, samsung...|                  []|\n",
      "|i am statistic lo...|[i, am, statistic...|                  []|\n",
      "|   name of this song|[name, of, this, ...|                  []|\n",
      "|when apple appear...|[when, apple, app...|             [apple]|\n",
      "|a hrefhttpswwwyou...|[a, hrefhttpswwwy...|[the john cena, a...|\n",
      "|if it39s upto 202...|[if, it39s, upto,...|                  []|\n",
      "|i think in couple...|[i, think, in, co...|                  []|\n",
      "|     where is amarco| [where, is, amarco]|                  []|\n",
      "|i think would be ...|[i, think, would,...|                  []|\n",
      "|apple39s growth i...|[apple39s, growth...|                  []|\n",
      "|hey guys please n...|[hey, guys, pleas...|                  []|\n",
      "|         apple sucks|      [apple, sucks]|             [apple]|\n",
      "|let me correct  u...|[let, me, correct...|                  []|\n",
      "|coca cola i rule ...|[coca, cola, i, r...|                  []|\n",
      "|we all knew apple...|[we, all, knew, a...|                  []|\n",
      "|google  cocomelon...|[google, , cocome...|            [google]|\n",
      "|        samsung good|     [samsung, good]|           [samsung]|\n",
      "|i make data visua...|[i, make, data, v...|                  []|\n",
      "|there is no doubt...|[there, is, no, d...|                  []|\n",
      "|i think samsung s...|[i, think, samsun...|                  []|\n",
      "|a hrefhttpswwwyou...|[a, hrefhttpswwwy...|                  []|\n",
      "|if store brands w...|[if, store, brand...|                  []|\n",
      "|          masterwork|        [masterwork]|                  []|\n",
      "|a hrefhttpswwwyou...|[a, hrefhttpswwwy...|       [ibm, google]|\n",
      "|i guarantee this ...|[i, guarantee, th...|                  []|\n",
      "|noooo coca colas ...|[noooo, coca, col...|                  []|\n",
      "|   apple gas gas gas|[apple, gas, gas,...|                  []|\n",
      "|samsung the under...|[samsung, the, un...|           [samsung]|\n",
      "|majority of them ...|[majority, of, th...|                  []|\n",
      "|            liked it|         [liked, it]|                  []|\n",
      "|                good|              [good]|                  []|\n",
      "|       i hate iphone|   [i, hate, iphone]|                  []|\n",
      "|cocacola i39m the...|[cocacola, i39m, ...|                  []|\n",
      "|numberblocks flat...|[numberblocks, fl...|[toyota, microsof...|\n",
      "|nokia the godfath...|[nokia, the, godf...|                  []|\n",
      "|yeah wow lovely a...|[yeah, wow, lovel...|                  []|\n",
      "|alguien sabe cmo ...|[alguien, sabe, c...|                  []|\n",
      "|a hrefhttpswwwyou...|[a, hrefhttpswwwy...|[hrefhttpswwwyout...|\n",
      "|can you share the...|[can, you, share,...|                  []|\n",
      "|voil ma premire v...|[voil, ma, premir...|              [voil]|\n",
      "|apple  tseriesbrg...|[apple, , tseries...|                  []|\n",
      "|robert rainerbrdr...|[robert, rainerbr...|                  []|\n",
      "|apple has joined ...|[apple, has, join...|             [apple]|\n",
      "|please how do you...|[please, how, do,...|                  []|\n",
      "|saudi aramco isnt...|[saudi, aramco, i...|                  []|\n",
      "|how can i calcula...|[how, can, i, cal...|              [spss]|\n",
      "|          love yours|       [love, yours]|                  []|\n",
      "|              br    |[, , , , br, , , , ]|                  []|\n",
      "|         where is lg|     [where, is, lg]|                  []|\n",
      "|       korea samsung|    [korea, samsung]|           [samsung]|\n",
      "|2020brtesla hold ...|[2020brtesla, hol...|                  []|\n",
      "|    what even is ibm|[what, even, is, ...|               [ibm]|\n",
      "|this first part o...|[this, first, par...|                  []|\n",
      "|does anyone know ...|[does, anyone, kn...|                  []|\n",
      "|a hrefhttpswwwyou...|[a, hrefhttpswwwy...|[hrefhttpswwwyout...|\n",
      "|apple is justing ...|[apple, is, justi...|             [apple]|\n",
      "|what happened wit...|[what, happened, ...|               [ibm]|\n",
      "|                    |                  []|                  []|\n",
      "|   0 chinese company|[0, chinese, comp...|                  []|\n",
      "|videos like this ...|[videos, like, th...|                  []|\n",
      "|when i see someth...|[when, i, see, so...|                  []|\n",
      "|       somente fabio|    [somente, fabio]|                  []|\n",
      "|           693807577|         [693807577]|                  []|\n",
      "|amazon entered in...|[amazon, entered,...|                  []|\n",
      "|when apple enters...|[when, apple, ent...|                  []|\n",
      "|coca cola why do ...|[coca, cola, why,...|                  []|\n",
      "|coca cola was lik...|[coca, cola, was,...|                  []|\n",
      "|nokia has left th...|[nokia, has, left...|             [nokia]|\n",
      "|hp has left the c...|[hp, has, left, t...|                  []|\n",
      "|      amazing growth|   [amazing, growth]|                  []|\n",
      "|how to ddo this v...|[how, to, ddo, th...|                  []|\n",
      "|mcdonalds once wa...|[mcdonalds, once,...|    [mcdonalds once]|\n",
      "|amazonstonks brgo...|[amazonstonks, br...|                  []|\n",
      "|a hrefhttpswwwyou...|[a, hrefhttpswwwy...|                  []|\n",
      "|we went from yaho...|[we, went, from, ...|             [yahoo]|\n",
      "|             wwfstti|           [wwfstti]|                  []|\n",
      "|this tune is very...|[this, tune, is, ...|                  []|\n",
      "|could you name th...|[could, you, name...|                  []|\n",
      "|googleyou cant ge...|[googleyou, cant,...|     [canbrappleyes]|\n",
      "|where are the son...|[where, are, the,...|              [sony]|\n",
      "|this guy is stupi...|[this, guy, is, s...|              [sony]|\n",
      "|i have an apple p...|[i, have, an, app...|                  []|\n",
      "|amazon has join t...|[amazon, has, joi...|            [amazon]|\n",
      "|         interesting|       [interesting]|                  []|\n",
      "|wow it is great w...|[wow, it, is, gre...|                  []|\n",
      "|can we just talk ...|[can, we, just, t...|                  []|\n",
      "+--------------------+--------------------+--------------------+\n",
      "only showing top 100 rows\n",
      "\n"
     ]
    },
    {
     "name": "stderr",
     "output_type": "stream",
     "text": [
      "                                                                                \r"
     ]
    }
   ],
   "source": [
    "# Show the first 5 rows of the DataFrame with identified brands (adjust the number as needed)\n",
    "print(\"Preprocessed DataFrame with Identified Brands:\")\n",
    "brands_df.show(100)"
   ]
  },
  {
   "cell_type": "code",
   "execution_count": 11,
   "id": "dd7e6b0b-5dd4-44b8-a51c-fa5dd4908ee1",
   "metadata": {},
   "outputs": [],
   "source": [
    "# Filter rows where the size of the brands array is greater than 0\n",
    "filtered_df = brands_df.filter(size(col(\"brands\")) > 0)"
   ]
  },
  {
   "cell_type": "code",
   "execution_count": 12,
   "id": "bca61dc6-100b-4682-9c33-607aafe1825c",
   "metadata": {},
   "outputs": [
    {
     "name": "stderr",
     "output_type": "stream",
     "text": [
      "24/06/25 09:28:32 WARN GarbageCollectionMetrics: To enable non-built-in garbage collector(s) List(G1 Concurrent GC), users should configure it(them) to spark.eventLog.gcMetrics.youngGenerationGarbageCollectors or spark.eventLog.gcMetrics.oldGenerationGarbageCollectors\n",
      "                                                                                \r"
     ]
    },
    {
     "data": {
      "text/plain": [
       "2296"
      ]
     },
     "execution_count": 12,
     "metadata": {},
     "output_type": "execute_result"
    }
   ],
   "source": [
    "filtered_df.count()"
   ]
  },
  {
   "cell_type": "code",
   "execution_count": null,
   "id": "505386fd-94fa-45f4-b06f-731a0051a3d8",
   "metadata": {},
   "outputs": [],
   "source": []
  },
  {
   "cell_type": "code",
   "execution_count": 13,
   "id": "1555ef8c-2c3c-42c5-996b-a7ce4560757d",
   "metadata": {},
   "outputs": [],
   "source": [
    "from pyspark.sql import SparkSession\n",
    "from pyspark.sql.functions import col, udf\n",
    "from pyspark.sql.types import IntegerType\n",
    "from textblob import TextBlob\n"
   ]
  },
  {
   "cell_type": "code",
   "execution_count": 14,
   "id": "47f115c1-d735-44bf-92c5-e550aa753052",
   "metadata": {},
   "outputs": [],
   "source": [
    "def analyze_sentiment_udf(comment):\n",
    "  \"\"\"\n",
    "  Analyzes the sentiment of a comment using TextBlob.\n",
    "\n",
    "  Args:\n",
    "      comment (str): The comment text to analyze.\n",
    "\n",
    "  Returns:\n",
    "      int:\n",
    "          1: Positive sentiment\n",
    "          0: Neutral sentiment\n",
    "          -1: Negative sentiment\n",
    "  \"\"\"\n",
    "  analysis = TextBlob(comment)\n",
    "  if analysis.sentiment.polarity > 0:\n",
    "    return 1\n",
    "  elif analysis.sentiment.polarity == 0:\n",
    "    return 0\n",
    "  else:\n",
    "    return -1\n",
    "\n",
    "# Create a User Defined Function (UDF)\n",
    "analyze_sentiment = udf(analyze_sentiment_udf, IntegerType())\n"
   ]
  },
  {
   "cell_type": "code",
   "execution_count": 15,
   "id": "6628f97e-6b89-4ced-96c5-a3d1b8601890",
   "metadata": {},
   "outputs": [],
   "source": [
    "# Apply the sentiment analysis UDF to the 'comment_text' column\n",
    "sentiment_df = filtered_df.withColumn('category', analyze_sentiment(col('comment')))"
   ]
  },
  {
   "cell_type": "code",
   "execution_count": 16,
   "id": "54b02d73-d1d5-45f5-a807-3b7f1a66d30f",
   "metadata": {},
   "outputs": [
    {
     "name": "stderr",
     "output_type": "stream",
     "text": [
      "[Stage 9:>                                                          (0 + 1) / 1]\r"
     ]
    },
    {
     "name": "stdout",
     "output_type": "stream",
     "text": [
      "+--------------------+--------------------+--------------------+--------+\n",
      "|             comment|               words|              brands|category|\n",
      "+--------------------+--------------------+--------------------+--------+\n",
      "|nokia was the pri...|[nokia, was, the,...|             [nokia]|       0|\n",
      "|samsung made by s...|[samsung, made, b...|           [samsung]|       0|\n",
      "|google growingbra...|[google, growingb...|            [google]|       0|\n",
      "|apple has got roc...|[apple, has, got,...|             [apple]|       0|\n",
      "|               nokia|             [nokia]|             [nokia]|       0|\n",
      "|               apple|             [apple]|             [apple]|       0|\n",
      "|when apple appear...|[when, apple, app...|             [apple]|      -1|\n",
      "|a hrefhttpswwwyou...|[a, hrefhttpswwwy...|[the john cena, a...|       0|\n",
      "|         apple sucks|      [apple, sucks]|             [apple]|      -1|\n",
      "|google  cocomelon...|[google, , cocome...|            [google]|       0|\n",
      "|        samsung good|     [samsung, good]|           [samsung]|       1|\n",
      "|a hrefhttpswwwyou...|[a, hrefhttpswwwy...|       [ibm, google]|       0|\n",
      "|samsung the under...|[samsung, the, un...|           [samsung]|       0|\n",
      "|numberblocks flat...|[numberblocks, fl...|[toyota, microsof...|       1|\n",
      "|a hrefhttpswwwyou...|[a, hrefhttpswwwy...|[hrefhttpswwwyout...|       0|\n",
      "|voil ma premire v...|[voil, ma, premir...|              [voil]|       0|\n",
      "|apple has joined ...|[apple, has, join...|             [apple]|       0|\n",
      "|how can i calcula...|[how, can, i, cal...|              [spss]|       1|\n",
      "|       korea samsung|    [korea, samsung]|           [samsung]|       0|\n",
      "|    what even is ibm|[what, even, is, ...|               [ibm]|       0|\n",
      "|a hrefhttpswwwyou...|[a, hrefhttpswwwy...|[hrefhttpswwwyout...|       1|\n",
      "|apple is justing ...|[apple, is, justi...|             [apple]|       1|\n",
      "|what happened wit...|[what, happened, ...|               [ibm]|       0|\n",
      "|nokia has left th...|[nokia, has, left...|             [nokia]|       0|\n",
      "|mcdonalds once wa...|[mcdonalds, once,...|    [mcdonalds once]|       1|\n",
      "|we went from yaho...|[we, went, from, ...|             [yahoo]|       0|\n",
      "|googleyou cant ge...|[googleyou, cant,...|     [canbrappleyes]|       0|\n",
      "|where are the son...|[where, are, the,...|              [sony]|       0|\n",
      "|this guy is stupi...|[this, guy, is, s...|              [sony]|      -1|\n",
      "|amazon has join t...|[amazon, has, joi...|            [amazon]|       0|\n",
      "|   fanta is the best|[fanta, is, the, ...|             [fanta]|       1|\n",
      "|yamaha semakin be...|[yamaha, semakin,...|            [yamaha]|       0|\n",
      "|apple is a f1 car...|[apple, is, a, f1...|             [apple]|       0|\n",
      "|      where is yahoo|  [where, is, yahoo]|             [yahoo]|       0|\n",
      "|               apple|             [apple]|             [apple]|       0|\n",
      "|nokia wtf is a nokia|[nokia, wtf, is, ...|             [nokia]|      -1|\n",
      "|  coke is killing it|[coke, is, killin...|              [coke]|       0|\n",
      "|it feels weird to...|[it, feels, weird...|                [ge]|      -1|\n",
      "|yes it39s really ...|[yes, it39s, real...|             [nokia]|       1|\n",
      "|sony  microsoft  ...|[sony, , microsof...|[sony, microsoft,...|       1|\n",
      "|nokia is the bigg...|[nokia, is, the, ...|             [nokia]|       0|\n",
      "|epic battle of go...|[epic, battle, of...|            [google]|       1|\n",
      "|coca cola im numb...|[coca, cola, im, ...|      [coca cola im]|       1|\n",
      "|             samsung|           [samsung]|           [samsung]|       0|\n",
      "|    apple is so best|[apple, is, so, b...|             [apple]|       1|\n",
      "|samsung is korean...|[samsung, is, kor...|           [samsung]|       0|\n",
      "|apple is only wea...|[apple, is, only,...|             [apple]|       1|\n",
      "|apple has past a ...|[apple, has, past...|             [apple]|      -1|\n",
      "|samsung daebak      |[samsung, daebak,...|           [samsung]|       0|\n",
      "|the jake paul mer...|[the, jake, paul,...|[the jake paul me...|       0|\n",
      "|i remember the go...|[i, remember, the...|           [samsung]|       1|\n",
      "|a hrefhttpswwwyou...|[a, hrefhttpswwwy...|               [ibm]|       0|\n",
      "|i know sony wasn3...|[i, know, sony, w...|              [sony]|       0|\n",
      "|             samsung|           [samsung]|           [samsung]|       0|\n",
      "|coca cola es la r...|[coca, cola, es, ...|[el mundo que alg...|       0|\n",
      "|             y pepsi|          [y, pepsi]|             [pepsi]|       0|\n",
      "|a hrefhttpswwwyou...|[a, hrefhttpswwwy...|[hrefhttpswwwyout...|      -1|\n",
      "|       korea samsung|    [korea, samsung]|           [samsung]|       0|\n",
      "|when google appea...|[when, google, ap...|            [google]|       0|\n",
      "|google tries to t...|[google, tries, t...|            [google]|      -1|\n",
      "|           samsung  |       [samsung, , ]|           [samsung]|       0|\n",
      "|i swear i was onl...|[i, swear, i, was...|           [samsung]|       0|\n",
      "|       missing nokia|    [missing, nokia]|             [nokia]|      -1|\n",
      "|     apple is winner| [apple, is, winner]|             [apple]|       0|\n",
      "|               pepsi|             [pepsi]|             [pepsi]|       0|\n",
      "|           go toyota|        [go, toyota]|            [toyota]|       0|\n",
      "|samsung is the be...|[samsung, is, the...|           [samsung]|       1|\n",
      "|nokia in 1900s  i...|[nokia, in, 1900s...|             [nokia]|       0|\n",
      "|what i39ve never ...|[what, i39ve, nev...|         [microsoft]|       1|\n",
      "|               apple|             [apple]|             [apple]|       0|\n",
      "|imagine apple lau...|[imagine, apple, ...|             [won39]|       1|\n",
      "|thats not true go...|[thats, not, true...|            [google]|       1|\n",
      "|i bet nokia has 3...|[i, bet, nokia, h...|             [nokia]|       0|\n",
      "|maga  microsoft a...|[maga, , microsof...|         [microsoft]|       0|\n",
      "|     i love samsung |[i, love, samsung, ]|           [samsung]|       1|\n",
      "|me sees coco cola...|[me, sees, coco, ...|             [pepsi]|       0|\n",
      "|i dont even know ...|[i, dont, even, k...|               [ibm]|       0|\n",
      "|the next big figh...|[the, next, big, ...|            [google]|       0|\n",
      "|in a wolld full o...|[in, a, wolld, fu...|     [nokia, toyota]|      -1|\n",
      "|amazing brands ra...|[amazing, brands,...|[amazing brands r...|      -1|\n",
      "|        i like nokia|    [i, like, nokia]|             [nokia]|       0|\n",
      "|my tablet is samsung|[my, tablet, is, ...|           [samsung]|       0|\n",
      "|when apple came i...|[when, apple, cam...| [google, microsoft]|       0|\n",
      "|ferrari was the m...|[ferrari, was, th...|           [ferrari]|       1|\n",
      "|lol 8 of the top ...|[lol, 8, of, the,...|            [toyota]|       1|\n",
      "|very cool these g...|[very, cool, thes...|              [ford]|       1|\n",
      "|apple and google ...|[apple, and, goog...|[apple, google ba...|       1|\n",
      "|nokia is getting ...|[nokia, is, getti...|             [nokia]|       1|\n",
      "|      apple brbrlike|   [apple, brbrlike]|    [apple brbrlike]|       0|\n",
      "|i like bis apple ...|[i, like, bis, ap...|               [ibm]|       0|\n",
      "|        wher is sony|    [wher, is, sony]|              [sony]|       0|\n",
      "|nothing see googl...|[nothing, see, go...|          [motorola]|       1|\n",
      "|              apple |           [apple, ]|             [apple]|       0|\n",
      "|   samsung well done|[samsung, well, d...|           [samsung]|       0|\n",
      "|apple comes  hell...|[apple, comes, , ...|             [apple]|      -1|\n",
      "|cocacola existed ...|[cocacola, existe...|               [ibm]|       1|\n",
      "|          volkswagen|        [volkswagen]|        [volkswagen]|       0|\n",
      "|     google will win| [google, will, win]|            [google]|       1|\n",
      "|this whole video ...|[this, whole, vid...|             [nokia]|      -1|\n",
      "|i don39t believe ...|[i, don39t, belie...|    [microsoft, ibm]|       1|\n",
      "+--------------------+--------------------+--------------------+--------+\n",
      "only showing top 100 rows\n",
      "\n"
     ]
    },
    {
     "name": "stderr",
     "output_type": "stream",
     "text": [
      "                                                                                \r"
     ]
    }
   ],
   "source": [
    "# Print the first few rows to see the sentiment categories\n",
    "sentiment_df.show(100)  # Show first 20 rows\n"
   ]
  },
  {
   "cell_type": "code",
   "execution_count": 17,
   "id": "08ec4c7c-0558-4fbc-a63f-287358e93e73",
   "metadata": {},
   "outputs": [],
   "source": [
    "from pyspark.sql import SparkSession, functions as F"
   ]
  },
  {
   "cell_type": "code",
   "execution_count": 18,
   "id": "8aa58b90-2cf4-4a39-99d6-06481e9c93bc",
   "metadata": {},
   "outputs": [
    {
     "name": "stderr",
     "output_type": "stream",
     "text": [
      "[Stage 10:>                                                         (0 + 1) / 1]\r"
     ]
    },
    {
     "name": "stdout",
     "output_type": "stream",
     "text": [
      "+--------------------+--------------------+--------------------+--------+--------------------+\n",
      "|             comment|               words|              brands|category|               brand|\n",
      "+--------------------+--------------------+--------------------+--------+--------------------+\n",
      "|nokia was the pri...|[nokia, was, the,...|             [nokia]|       0|               nokia|\n",
      "|samsung made by s...|[samsung, made, b...|           [samsung]|       0|             samsung|\n",
      "|google growingbra...|[google, growingb...|            [google]|       0|              google|\n",
      "|apple has got roc...|[apple, has, got,...|             [apple]|       0|               apple|\n",
      "|               nokia|             [nokia]|             [nokia]|       0|               nokia|\n",
      "|               apple|             [apple]|             [apple]|       0|               apple|\n",
      "|when apple appear...|[when, apple, app...|             [apple]|      -1|               apple|\n",
      "|a hrefhttpswwwyou...|[a, hrefhttpswwwy...|[the john cena, a...|       0|       the john cena|\n",
      "|a hrefhttpswwwyou...|[a, hrefhttpswwwy...|[the john cena, a...|       0|               apple|\n",
      "|         apple sucks|      [apple, sucks]|             [apple]|      -1|               apple|\n",
      "|google  cocomelon...|[google, , cocome...|            [google]|       0|              google|\n",
      "|        samsung good|     [samsung, good]|           [samsung]|       1|             samsung|\n",
      "|a hrefhttpswwwyou...|[a, hrefhttpswwwy...|       [ibm, google]|       0|                 ibm|\n",
      "|a hrefhttpswwwyou...|[a, hrefhttpswwwy...|       [ibm, google]|       0|              google|\n",
      "|samsung the under...|[samsung, the, un...|           [samsung]|       0|             samsung|\n",
      "|numberblocks flat...|[numberblocks, fl...|[toyota, microsof...|       1|              toyota|\n",
      "|numberblocks flat...|[numberblocks, fl...|[toyota, microsof...|       1|           microsoft|\n",
      "|numberblocks flat...|[numberblocks, fl...|[toyota, microsof...|       1|  musicbrcoca cola n|\n",
      "|a hrefhttpswwwyou...|[a, hrefhttpswwwy...|[hrefhttpswwwyout...|       0|hrefhttpswwwyoutu...|\n",
      "|voil ma premire v...|[voil, ma, premir...|              [voil]|       0|                voil|\n",
      "+--------------------+--------------------+--------------------+--------+--------------------+\n",
      "only showing top 20 rows\n",
      "\n"
     ]
    },
    {
     "name": "stderr",
     "output_type": "stream",
     "text": [
      "                                                                                \r"
     ]
    }
   ],
   "source": [
    "# Explode the 'brands' array to create separate rows for each brand\n",
    "df_exploded = sentiment_df.withColumn(\"brand\", F.explode_outer(\"brands\"))\n",
    "\n",
    "df_exploded.show()"
   ]
  },
  {
   "cell_type": "code",
   "execution_count": 23,
   "id": "6874a86c-3bad-4afd-9469-87201c65f81d",
   "metadata": {},
   "outputs": [
    {
     "name": "stderr",
     "output_type": "stream",
     "text": [
      "[Stage 11:>                                                         (0 + 1) / 1]\r"
     ]
    },
    {
     "name": "stdout",
     "output_type": "stream",
     "text": [
      "+--------------------+------------------+---------------------+---------------------+\n",
      "|               brand|total_category_sum|positive_category_sum|negative_category_sum|\n",
      "+--------------------+------------------+---------------------+---------------------+\n",
      "|                175x|                 1|                    1|                 NULL|\n",
      "|            310apple|                 0|                 NULL|                 NULL|\n",
      "|airlines airlines...|                 0|                 NULL|                 NULL|\n",
      "|amazing brands ra...|                -1|                 NULL|                   -1|\n",
      "|              amazon|                11|                   18|                   -7|\n",
      "|amazona hrefhttps...|                 0|                 NULL|                 NULL|\n",
      "|     american brands|                 1|                    1|                 NULL|\n",
      "|american girlbr5 ...|                 1|                    1|                 NULL|\n",
      "|                 anb|                 1|                    1|                 NULL|\n",
      "|             android|                 4|                    4|                 NULL|\n",
      "|anlald geleceimiz...|                 0|                 NULL|                 NULL|\n",
      "|             aos luz|                 0|                 NULL|                 NULL|\n",
      "|        aos revienta|                 0|                 NULL|                 NULL|\n",
      "|               apple|               -13|                  107|                 -120|\n",
      "|       apple  boutta|                 0|                 NULL|                 NULL|\n",
      "|apple a hrefhttps...|                 0|                 NULL|                 NULL|\n",
      "|apple ahhhhhhhhhhhhh|                 1|                    1|                 NULL|\n",
      "|            apple am|                -1|                 NULL|                   -1|\n",
      "|apple bcomesbbred...|                 1|                    1|                 NULL|\n",
      "|apple bentersbbrn...|                 0|                 NULL|                 NULL|\n",
      "+--------------------+------------------+---------------------+---------------------+\n",
      "only showing top 20 rows\n",
      "\n"
     ]
    },
    {
     "name": "stderr",
     "output_type": "stream",
     "text": [
      "                                                                                \r"
     ]
    }
   ],
   "source": [
    "\n",
    "# Calculate total category sum for each brand\n",
    "total_category_sum_by_brand = df_exploded.select(\"brand\", \"category\").groupBy(\"brand\").agg(\n",
    "    F.sum(\"category\").alias(\"total_category_sum\")\n",
    ")\n",
    "\n",
    "# Calculate positive category sum for each brand (filter and sum)\n",
    "positive_category_sum_by_brand = df_exploded.select(\"brand\", \"category\").where(F.col(\"category\") > 0).groupBy(\"brand\").agg(\n",
    "    F.sum(\"category\").alias(\"positive_category_sum\")\n",
    ")\n",
    "\n",
    "# Handle brands with no positive categories by filling with 0\n",
    "positive_category_sum_by_brand = positive_category_sum_by_brand.withColumn(\"positive_category_sum\", F.coalesce(F.col(\"positive_category_sum\"), F.lit(0)))\n",
    "\n",
    "# Calculate negative category sum for each brand (filter and sum)\n",
    "negative_category_sum_by_brand = df_exploded.select(\"brand\", \"category\").where(F.col(\"category\") < 0).groupBy(\"brand\").agg(\n",
    "    F.sum(\"category\").alias(\"negative_category_sum\")\n",
    ")\n",
    "\n",
    "# Handle brands with no negative categories by filling with 0\n",
    "negative_category_sum_by_brand = negative_category_sum_by_brand.withColumn(\"negative_category_sum\", F.coalesce(F.col(\"negative_category_sum\"), F.lit(0)))\n",
    "\n",
    "# Join the three DataFrames to get all columns for each brand\n",
    "brand_category_sum = total_category_sum_by_brand.join(positive_category_sum_by_brand, on=\"brand\", how=\"outer\").join(negative_category_sum_by_brand, on=\"brand\", how=\"outer\")\n",
    "\n",
    "# Display the result\n",
    "brand_category_sum.show()"
   ]
  },
  {
   "cell_type": "code",
   "execution_count": 61,
   "id": "121a8ab5-d5bf-472a-8fb4-6c46b94c8262",
   "metadata": {},
   "outputs": [
    {
     "name": "stderr",
     "output_type": "stream",
     "text": [
      "                                                                                \r"
     ]
    },
    {
     "data": {
      "text/plain": [
       "369"
      ]
     },
     "execution_count": 61,
     "metadata": {},
     "output_type": "execute_result"
    }
   ],
   "source": [
    "brand_category_sum.count()"
   ]
  },
  {
   "cell_type": "code",
   "execution_count": 25,
   "id": "1c877b66-b7d3-4e20-a5b0-6215e8da66fa",
   "metadata": {},
   "outputs": [
    {
     "name": "stderr",
     "output_type": "stream",
     "text": [
      "                                                                                \r"
     ]
    }
   ],
   "source": [
    "brand_category_sum.write.option(\"header\", True).mode(\"overwrite\").csv(\"brand_category_sum.csv\")\n"
   ]
  },
  {
   "cell_type": "code",
   "execution_count": 63,
   "id": "05a546b6-a54a-40d0-bf1e-06af1e002234",
   "metadata": {},
   "outputs": [],
   "source": [
    "spark.stop()"
   ]
  },
  {
   "cell_type": "code",
   "execution_count": null,
   "id": "422a22d5-fe41-4707-b5e8-e23cb0446d12",
   "metadata": {},
   "outputs": [],
   "source": []
  }
 ],
 "metadata": {
  "kernelspec": {
   "display_name": "Python 3 (ipykernel)",
   "language": "python",
   "name": "python3"
  },
  "language_info": {
   "codemirror_mode": {
    "name": "ipython",
    "version": 3
   },
   "file_extension": ".py",
   "mimetype": "text/x-python",
   "name": "python",
   "nbconvert_exporter": "python",
   "pygments_lexer": "ipython3",
   "version": "3.12.4"
  }
 },
 "nbformat": 4,
 "nbformat_minor": 5
}
