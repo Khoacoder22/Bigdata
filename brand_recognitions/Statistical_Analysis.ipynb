{
 "cells": [
  {
   "cell_type": "code",
   "execution_count": 754,
   "id": "09d3dccb-d4be-4a56-b1eb-087ae1f8b51c",
   "metadata": {},
   "outputs": [],
   "source": [
    "import pandas as pd\n",
    "import spacy\n",
    "import matplotlib.pyplot as plt"
   ]
  },
  {
   "cell_type": "code",
   "execution_count": 755,
   "id": "15505faf-8450-4b03-bfd8-b3b96be29729",
   "metadata": {},
   "outputs": [],
   "source": [
    "# Load spaCy's English model\n",
    "nlp = spacy.load(\"en_core_web_sm\")"
   ]
  },
  {
   "cell_type": "code",
   "execution_count": 756,
   "id": "2201baca-9160-4634-a383-768c3dfc0e0d",
   "metadata": {},
   "outputs": [],
   "source": [
    "# Load the CSV data\n",
    "file_path = 'part-00000-a6df1d30-a8df-4b59-99e9-fdd79f232e52-c000.csv'  # Replace with your actual file path\n",
    "df = pd.read_csv(file_path)"
   ]
  },
  {
   "cell_type": "code",
   "execution_count": 757,
   "id": "b8340f0f-a230-4270-8956-f16ac7a1b164",
   "metadata": {},
   "outputs": [],
   "source": [
    "# Function to clean brand names by tokenizing and normalizing them\n",
    "def clean_brand(brand):\n",
    "    doc = nlp(brand)\n",
    "    tokens = [token.lemma_.lower() for token in doc if not token.is_stop and not token.is_punct]\n",
    "    if tokens:\n",
    "        print(tokens)\n",
    "        return tokens[0]  # Return the first significant token\n",
    "    else:\n",
    "        return brand.lower()  # Fallback to the entire brand in lowercase"
   ]
  },
  {
   "cell_type": "code",
   "execution_count": 758,
   "id": "30a0bb7a-b188-4d2e-b0bf-9842c1767a1e",
   "metadata": {},
   "outputs": [
    {
     "name": "stdout",
     "output_type": "stream",
     "text": [
      "['175x']\n",
      "['310apple']\n",
      "['airlines', 'airlines', 'airline']\n",
      "['amazing', 'brand', 'rank', 'movement', 'nice']\n",
      "['amazon']\n",
      "['amazona', 'hrefhttpswwwyoutubecomwatchvbqovquga0veampt298458a']\n",
      "['american', 'brand']\n",
      "['american', 'girlbr5', 'microsoftbr6', 'cocacolabr7']\n",
      "['anb']\n",
      "['android']\n",
      "['anlald', 'geleceimizin', 'kaderi', 'teknoloji']\n",
      "['aos', 'luz']\n",
      "['aos', 'revienta']\n",
      "['apple']\n",
      "['apple', ' ', 'boutta']\n",
      "['apple', 'hrefhttpswwwyoutubecomwatchvbqovquga0veampt190310a']\n",
      "['apple', 'ahhhhhhhhhhhhh']\n",
      "['apple']\n",
      "['apple', 'bcomesbbreditor']\n",
      "['apple', 'bentersbbrnokia']\n",
      "['apple', 'bexcuse']\n",
      "['apple', 'bmove', 'bitch']\n",
      "['apple', 'brand', 'value']\n",
      "['apple', 'brbrbrbrbrbrbrbrsearch']\n",
      "['apple', 'brbrlike']\n",
      "['apple', 'chinaed']\n",
      "['apple', 'coca', 'cola', ' ', 'tserie', 'vs', 'pewd']\n",
      "['apple', 'crecan', 'rpido', 'brbra', 'm']\n",
      "['apple', 'dang']\n",
      "['apple', 'don39']\n",
      "['apple', 'es']\n",
      "['apple', 'esta', 'sobrevalorado', 'son', 'puro', 'postureo', 'porque']\n",
      "['apple', 'existsbrcoca', 'cola']\n",
      "['apple', 'flewwww']\n",
      "['apple', 'fuckin']\n",
      "['apple', 'google', 'amazon']\n",
      "['apple', 'google', 'nd', 'facebooksince']\n",
      "['apple', 'i39', 'm']\n",
      "['apple', 'inc', ' ', 'equity']\n",
      "['apple', 'join']\n",
      "['apple', 'legit']\n",
      "['apple', 'literally', 'go', 'sicko', 'mode']\n",
      "['apple', 'los']\n",
      "['apple', 'masterrace']\n",
      "['apple', 'microsoft']\n",
      "['apple', 'n', 'google']\n",
      "['apple', 'neeeeeeeooowwwnnnnnggggg']\n",
      "['apple', 'new']\n",
      "['apple', 'pewd', 'movebrsamsung']\n",
      "['apple', 'rank', 'bot']\n",
      "['apple', 'samsung']\n",
      "['apple', 'se', 'apoderaron', 'del', 'mundo']\n",
      "['apple', 'stoling']\n",
      "['apple', 'suck', 'android']\n",
      "['apple', 'suck', 'anyways']\n",
      "['apple', 'sucksbrand']\n",
      "['apple', 'sux']\n",
      "['apple', 'thoughbrbrbris']\n",
      "['apple', 'go', 'pure', 'sicko']\n",
      "['apple', 'go', 'sicko']\n",
      "['apple', 'go', 'sicko', 'mode']\n",
      "['applebribm']\n",
      "['applebroh', 'hello']\n",
      "['applei', 'godbrgoogleok']\n",
      "['att', 'it39']\n",
      "['audio']\n",
      "['bakit', 'walang', 'jollibeee', 'hoho']\n",
      "['ban', 'disney']\n",
      "['bandroid']\n",
      "['bgoogleb']\n",
      "['bia', 'p', 'p', 'l', 'eib']\n",
      "['bibm']\n",
      "['bibmb', 'i39', 'm']\n",
      "['bmcdonald']\n",
      "['bmicrosoft']\n",
      "['bmw']\n",
      "['bmw', 'intel']\n",
      "['brandbr20002013']\n",
      "['brandsbr3', 'amazonbr4']\n",
      "['brbamerican', 'express']\n",
      "['brbrbra', 'hrefhttpswwwyoutubecomwatchvbqovquga0veampt64104a', 'bford', 'motor']\n",
      "['bro']\n",
      "['bsee', 'disney']\n",
      "['bud']\n",
      "['byte']\n",
      "['cameib']\n",
      "['canbrappleyes']\n",
      "['canbrgoogle']\n",
      "['caterpillar']\n",
      "['chatbbr2012']\n",
      "['chatbbrbrgoogle']\n",
      "['chatbbrgoogle']\n",
      "['chatbrnokia']\n",
      "['che']\n",
      "['chevron']\n",
      "['chevys']\n",
      "['chrysler']\n",
      "['cisco', 'systems', 'inc']\n",
      "['cmg']\n",
      "['cmon']\n",
      "['cmon', 'mcdonalds', 'beat']\n",
      "['coca', 'cola']\n",
      "['coca', 'cola', 'i39', 'm']\n",
      "['coca', 'cola', 'm']\n",
      "['coca', 'cola', 'm', 'king']\n",
      "['coca', 'cola', 'mcdonald']\n",
      "['coca', 'cola', 'no1']\n",
      "['coca', 'cola', 'u']\n",
      "['coca', 'colabrcoca', 'cola']\n",
      "['cocacloa']\n",
      "['cocacolabr2']\n",
      "['cocacolabr3', 'ibmbr2013br1']\n",
      "['coco', 'cola']\n",
      "['coke']\n",
      "['cola']\n",
      "['cola', 'dobbrcoca', 'cola', 'run']\n",
      "['colaben']\n",
      "['colabrmicrosoft']\n",
      "['como']\n",
      "['como', 'sonada', 'llego', 'apple', 'llego', 'como']\n",
      "['companybr2018']\n",
      "['congress']\n",
      "['could39ve']\n",
      "['couse', 'usa']\n",
      "['de', 'la']\n",
      "['de', 'la', 'madrugada']\n",
      "['de', 'la', 'mer', 'de']\n",
      "['del', 'restobrcoca', 'cola', 'por', 'su']\n",
      "['disney']\n",
      "['disney', 'bbuys', 'star']\n",
      "['disney', 'fall', 'club']\n",
      "['downbbrsamsung', 'goodbye', 'dearest']\n",
      "['ebay']\n",
      "['el', 'mercado']\n",
      "['el', 'momento']\n",
      "['el', 'mundo', 'que', 'alguien']\n",
      "['el', 'precio', 'de', 'sus', 'cosas']\n",
      "['el', 'valor', 'de', 'las', 'marcas']\n",
      "['exxon']\n",
      "['exxon', 'mobil']\n",
      "['exxon', 'mobile']\n",
      "['fanta']\n",
      "['faz']\n",
      "['fbi']\n",
      "['ferrari']\n",
      "['fifa']\n",
      "['ford']\n",
      "['foton']\n",
      "['fox', 'pixar']\n",
      "['ge']\n",
      "['getmy']\n",
      "['gillette']\n",
      "['gillette', 'worth']\n",
      "['gm']\n",
      "['googel']\n",
      "['google']\n",
      "['google', 'apple']\n",
      "['google', 'bahhh']\n",
      "['google', 'bra', 'hrefhttpswwwyoutubecomwatchvbqovquga0veampt187307a']\n",
      "['google', 'brbattle']\n",
      "['google', 'disney']\n",
      "['google', 'estan']\n",
      "['google', 'excuse', 'pardon']\n",
      "['google', 'i39', 'm', 'go']\n",
      "['google', 'i39', 'm', 'grow']\n",
      "['google', 'i39', 'm', 'fast']\n",
      "['google', 'india']\n",
      "['google', 'microsoft']\n",
      "['google', 'n']\n",
      "['google', 'quotapple', 'wait']\n",
      "['google', 'samsung']\n",
      "['google', 'shibal']\n",
      "['google', 'mvps']\n",
      "['google', 'v']\n",
      "['googlebr3', 'cocacolabr2017']\n",
      "['googlebr3', 'microsoftbr2018', ' ', 'br1']\n",
      "['googlei']\n",
      "['googlei', 'bestbrapplenonobra']\n",
      "['hiba']\n",
      "['hibrnice']\n",
      "['hmmm']\n",
      "['honda']\n",
      "['hrefhttpsnancyappletoncom141reasonssugarruinsyourhealthhttpsnancyappletoncom141reasonssugarruinsyourhealtha']\n",
      "['hrefhttpswwwyoutubecomwatchv6dhrl__un4httpsyoutube6dhrl__un4a']\n",
      "['hrefhttpswwwyoutubecomwatchvbqovquga0veampt12012a', 'cisco', 'systems', 'inc']\n",
      "['hrefhttpswwwyoutubecomwatchvbqovquga0veampt127207a']\n",
      "['hrefhttpswwwyoutubecomwatchvbqovquga0veampt132212a']\n",
      "['hrefhttpswwwyoutubecomwatchvbqovquga0veampt140220a']\n",
      "['hrefhttpswwwyoutubecomwatchvbqovquga0veampt156236a']\n",
      "['hrefhttpswwwyoutubecomwatchvbqovquga0veampt1680248a']\n",
      "['hrefhttpswwwyoutubecomwatchvbqovquga0veampt187307a']\n",
      "['hrefhttpswwwyoutubecomwatchvbqovquga0veampt188308abb']\n",
      "['hrefhttpswwwyoutubecomwatchvbqovquga0veampt189309ab']\n",
      "['hrefhttpswwwyoutubecomwatchvbqovquga0veampt189309abb']\n",
      "['hrefhttpswwwyoutubecomwatchvbqovquga0veampt189309abrbrcocacola']\n",
      "['hrefhttpswwwyoutubecomwatchvbqovquga0veampt192312a']\n",
      "['hrefhttpswwwyoutubecomwatchvbqovquga0veampt196316a']\n",
      "['hrefhttpswwwyoutubecomwatchvbqovquga0veampt205325abrbreeeeeeeeeeeeeeeeeeeeeeeeeeeeeeb']\n",
      "['hrefhttpswwwyoutubecomwatchvbqovquga0veampt208328a']\n",
      "['hrefhttpswwwyoutubecomwatchvbqovquga0veampt216336a']\n",
      "['hrefhttpswwwyoutubecomwatchvbqovquga0veampt217337a']\n",
      "['hrefhttpswwwyoutubecomwatchvbqovquga0veampt223343a']\n",
      "['hrefhttpswwwyoutubecomwatchvbqovquga0veampt225345a']\n",
      "['hrefhttpswwwyoutubecomwatchvbqovquga0veampt238358a']\n",
      "['hrefhttpswwwyoutubecomwatchvbqovquga0veampt246406a']\n",
      "['hrefhttpswwwyoutubecomwatchvbqovquga0veampt247407a']\n",
      "['hrefhttpswwwyoutubecomwatchvbqovquga0veampt249409a']\n",
      "['hrefhttpswwwyoutubecomwatchvbqovquga0veampt285445a']\n",
      "['hrefhttpswwwyoutubecomwatchvbqovquga0veampt295455a']\n",
      "['hrefhttpswwwyoutubecomwatchvbqovquga0veampt3003a', 'toyota', 'motor', 'corp']\n",
      "['hrefhttpswwwyoutubecomwatchvbqovquga0veampt330530abrcisco']\n",
      "['hrefhttpwwwyoutubecomresultssearch_query23fuckapplefuckapplea']\n",
      "['hrefhttpwwwyoutubecomresultssearch_query23mericamericaa']\n",
      "['hrefhttpwwwyoutubecomresultssearch_query23stopsmokingstopsmokinga']\n",
      "['hrefhttpwwwyoutubecomresultssearch_query23toyotatoyotaa']\n",
      "['hrefhttpwwwyoutubecomresultssearch_query23whenwhena']\n",
      "['httpsyoutube8ztqcthwnbq']\n",
      "['huawei', 'cross']\n",
      "['hyundai']\n",
      "['i39ve']\n",
      "['ibm']\n",
      "['ibmbrbribm']\n",
      "['ich', 'liebe', 'ibm']\n",
      "['illuminati']\n",
      "['inca', 'cola', 'una', 'vez']\n",
      "['intel']\n",
      "['irrrraa', 'pue']\n",
      "['itb']\n",
      "['jeffree', 'star', 'cosmetic']\n",
      "['kardesim', 'gir']\n",
      "['kasayang', 'ni']\n",
      "['kejayaan']\n",
      "['kia']\n",
      "['kodak']\n",
      "['kon', 'sa']\n",
      "['krisbowbr4']\n",
      "['l', 'unica', 'cosa', 'italiana']\n",
      "['la', 'de', 'da', 'de']\n",
      "['la', 'de', 'google']\n",
      "['la', 'inmensa']\n",
      "['la', 'peor']\n",
      "['la', 'primera']\n",
      "['leastquot', 'quotno']\n",
      "['lego']\n",
      "['lg']\n",
      "['lmao', 'i39', 'm']\n",
      "['mafia']\n",
      "['manera', 'de']\n",
      "['marlboro']\n",
      "['mcdonald']\n",
      "['mcdonald', 'come']\n",
      "['mcdonald', 'lyf']\n",
      "['mcdonald']\n",
      "['mcdonalds', 'brbrelectronic']\n",
      "['mcdonald']\n",
      "['mebrbr2012']\n",
      "['merc']\n",
      "['mercedes', 'benz', 'karl', 'benz']\n",
      "['mercifulquotbr4']\n",
      "['michaelsoft']\n",
      "['micron']\n",
      "['microsoft']\n",
      "['min', 'mcdonald']\n",
      "['momento', 'nuestra']\n",
      "['motorola']\n",
      "['muri', 'nokia']\n",
      "['musicbrcoca', 'cola', 'n']\n",
      "['muy']\n",
      "['muy', 'errado', 'puesto']\n",
      "['myorigo']\n",
      "['n', 'k', 's']\n",
      "['nasa']\n",
      "['nenhum', 'de', 'seus', 'pais']\n",
      "['nike']\n",
      "['nintendo']\n",
      "['no2bbrcocacola']\n",
      "['nokia']\n",
      "['nokia', 'samsung', 'toyota']\n",
      "['nokiabr20002012']\n",
      "['nokiabrquotno']\n",
      "['noo', 'nooo']\n",
      "['nooo']\n",
      "['nooo', 'ibm']\n",
      "['noooooo', 'mcdonald']\n",
      "['nooooooooooooooooooooooooooooooooooooooooooooooooooooooooooooooo']\n",
      "['nvidia']\n",
      "['oppp']\n",
      "['outbrbamerican', 'express']\n",
      "['p', 'e', 'p', 's']\n",
      "['p', 'p', 'l']\n",
      "['p', 'p', 'l', 'e', 'f', 'o', 'r', 'l']\n",
      "['papsi']\n",
      "['pepsi']\n",
      "['pepsi', 'p']\n",
      "['pewdiepieapplebrt', 'series']\n",
      "['philip', 'morris']\n",
      "['quotbir', 'arkadaa']\n",
      "['resultsbr4', 'microsoftbr3']\n",
      "['royal', 'dutch', 'shell']\n",
      "['s', 't', 'o', 'n', 'k', 's']\n",
      "['saab']\n",
      "['saben', 'que', 'llegan']\n",
      "['samsung']\n",
      "['samsung', 'corp']\n",
      "['samsung', 'electronicsbrbrsamsung']\n",
      "['samsung', 'es', 'el', 'que', 'ms']\n",
      "['samsung', 'great', 'korea']\n",
      "['samsung', 'i39', 'm']\n",
      "['samsung', 'melhor']\n",
      "['samsung', 'samsung']\n",
      "['samsung', 'smart']\n",
      "['santa', 'claus']\n",
      "['scania', 'lamborghini']\n",
      "['sec']\n",
      "['selamanya', 'kita', 'berapa']\n",
      "['server111111']\n",
      "['skoda', 'porsche', 'bentley', 'lamborghini', 'bugatti', 'ducati']\n",
      "['skoda', 'seat']\n",
      "['sniffb']\n",
      "['sony']\n",
      "['spss']\n",
      "['star', 'buck']\n",
      "['super', 'korea']\n",
      "['tesla']\n",
      "['chatb', 'brbamazon', 'join']\n",
      "['corp', 'namebrye']\n",
      "['gamebbrbgoogle', 'inc']\n",
      "['gamebbrcisco', 'systems', 'inc']\n",
      "['gamebrba', 'hrefhttpamazoncomamazoncomabb', 'inc']\n",
      "['gamebrbapple', 'inc']\n",
      "['gamebrbfacebook', 'inc']\n",
      "['gamebrcisco', 'systems', 'inc']\n",
      "['gamebrcitigroup', 'inc']\n",
      "['gamebrtoyota', 'motor', 'corp']\n",
      "['jake', 'paul', 'merchandise', 'kid']\n",
      "['john', 'cena']\n",
      "['volkswagen', 'audi']\n",
      "['toyota']\n",
      "['tseriesbri']\n",
      "['uan']\n",
      "['ugh']\n",
      "['ugh', 'i39', 'm']\n",
      "['un']\n",
      "['usa', 'usa', 'usa', 'usa']\n",
      "['usabr12']\n",
      "['usabr4']\n",
      "['usabr5']\n",
      "['usbr13', 'germanybr14', 'usbr15']\n",
      "['usbr2']\n",
      "['van', 'quedando']\n",
      "['viva', 'la', 'obsolescencia']\n",
      "['voil']\n",
      "['volkswagen']\n",
      "['volkswagen', 'ag']\n",
      "['volkswagen', 'audi', 'seat']\n",
      "['volkswagen', 'groupporsche']\n",
      "['wal', 'mart']\n",
      "['warner', 'bros']\n",
      "['we39re']\n",
      "['werke', 'ag']\n",
      "['won39']\n",
      "['woo']\n",
      "['worldbr20002018']\n",
      "['xqc']\n",
      "['yahoo']\n",
      "['yamaha']\n",
      "['yooooo']\n",
      "['youbrapple', 'noooooooooooooooooooooooooooooooooooooooooo']\n",
      "['youtubebr2012']\n"
     ]
    }
   ],
   "source": [
    "# Apply the cleaning function to the brand column\n",
    "df['clean_brand'] = df['brand'].apply(clean_brand)"
   ]
  },
  {
   "cell_type": "code",
   "execution_count": 759,
   "id": "22dccd84-c7ae-4917-aac1-d0462e474105",
   "metadata": {},
   "outputs": [],
   "source": [
    "# Handle missing values\n",
    "df['positive_category_sum'] = df['positive_category_sum'].fillna(0)\n",
    "df['negative_category_sum'] = df['negative_category_sum'].fillna(0)"
   ]
  },
  {
   "cell_type": "code",
   "execution_count": 760,
   "id": "d61032b9-5a3a-44be-a34d-30c091c0465d",
   "metadata": {},
   "outputs": [],
   "source": [
    "# Calculate total_category_sum if missing\n",
    "df['total_category_sum'] = df.apply(\n",
    "    lambda row: row['positive_category_sum'] + row['negative_category_sum'] \n",
    "    if pd.isnull(row['total_category_sum']) else row['total_category_sum'], axis=1\n",
    ")"
   ]
  },
  {
   "cell_type": "code",
   "execution_count": 761,
   "id": "cd03eb53-dd60-4a0d-ad92-a70534ec2981",
   "metadata": {},
   "outputs": [],
   "source": [
    "# Group by the cleaned brand names and sum the categories\n",
    "grouped_df = df.groupby('clean_brand').agg({\n",
    "    'total_category_sum': 'sum',\n",
    "    'positive_category_sum': 'sum',\n",
    "    'negative_category_sum': 'sum'\n",
    "}).reset_index()"
   ]
  },
  {
   "cell_type": "code",
   "execution_count": 762,
   "id": "18234967-5c73-4e03-9a75-d51b580732a5",
   "metadata": {},
   "outputs": [],
   "source": [
    "# # Save the cleaned and aggregated data to a new CSV file\n",
    "# output_file_path = 'cleaned_brands.csv'  # Replace with your desired output file path\n",
    "# grouped_df.to_csv(output_file_path, index=False)"
   ]
  },
  {
   "cell_type": "code",
   "execution_count": 763,
   "id": "70931356-ef2d-4323-b700-896d4bb85b5f",
   "metadata": {},
   "outputs": [],
   "source": [
    "# Function to convert negative values to positive in a column\n",
    "def convert_negative_to_positive(df, column):\n",
    "    df[column] = df[column].abs()  # Use abs() to convert negatives to positives\n",
    "    return df"
   ]
  },
  {
   "cell_type": "code",
   "execution_count": 764,
   "id": "0fa5f8a2-d31c-416e-bff7-ac15c46fba8b",
   "metadata": {},
   "outputs": [],
   "source": [
    "# Convert negative values to positive in 'negative_category_sum'\n",
    "df_plot = convert_negative_to_positive(df, 'negative_category_sum')"
   ]
  },
  {
   "cell_type": "code",
   "execution_count": 765,
   "id": "1b74805f-1df6-4f96-bbee-34ffb00fa5d2",
   "metadata": {},
   "outputs": [],
   "source": [
    "# Group by the cleaned brand names and sum the categories\n",
    "grouped_df_plot  = df_plot .groupby('clean_brand').agg({\n",
    "    'total_category_sum': 'sum',\n",
    "    'positive_category_sum': 'sum',\n",
    "    'negative_category_sum': 'sum'\n",
    "}).reset_index()"
   ]
  },
  {
   "cell_type": "code",
   "execution_count": 766,
   "id": "1db3c32f-d260-4d53-94a1-fa5a5e180a3c",
   "metadata": {},
   "outputs": [
    {
     "name": "stdout",
     "output_type": "stream",
     "text": [
      "737.0\n",
      "455.0\n"
     ]
    }
   ],
   "source": [
    "# Calculate total sums\n",
    "total_positive = grouped_df_plot['positive_category_sum'].sum()\n",
    "total_negative = grouped_df_plot['negative_category_sum'].sum()\n",
    "print(total_positive)\n",
    "print(total_negative)"
   ]
  },
  {
   "cell_type": "code",
   "execution_count": 767,
   "id": "a9d4e3c1-1409-490f-bd2f-1a57f8de9692",
   "metadata": {},
   "outputs": [
    {
     "name": "stdout",
     "output_type": "stream",
     "text": [
      "7.37\n",
      "4.55\n"
     ]
    }
   ],
   "source": [
    "# Determine brands with less than 10% of total\n",
    "threshold_positive = total_positive * 0.01\n",
    "threshold_negative = total_negative * 0.01\n",
    "print(threshold_positive)\n",
    "print(threshold_negative)"
   ]
  },
  {
   "cell_type": "code",
   "execution_count": 768,
   "id": "23550889-f44f-4d3c-9ac7-ae88468b9099",
   "metadata": {},
   "outputs": [],
   "source": [
    "# Separate major and other brands for positive_category_sum\n",
    "positive_major_brands = grouped_df_plot[grouped_df_plot['positive_category_sum'] > threshold_positive]\n",
    "positive_other_brands = grouped_df_plot[grouped_df_plot['positive_category_sum'] <= threshold_positive]\n",
    "\n",
    "# Separate major and other brands for negative_category_sum\n",
    "negative_major_brands = grouped_df_plot[grouped_df_plot['negative_category_sum'] > threshold_negative]\n",
    "negative_other_brands = grouped_df_plot[grouped_df_plot['negative_category_sum'] <= threshold_negative]"
   ]
  },
  {
   "cell_type": "code",
   "execution_count": 769,
   "id": "0cd1677b-5e78-41b5-b663-2ac160cabcc5",
   "metadata": {},
   "outputs": [
    {
     "name": "stdout",
     "output_type": "stream",
     "text": [
      "114.0\n",
      "53.0\n"
     ]
    }
   ],
   "source": [
    "# Combine 'Other' categories for positive and negative sums\n",
    "other_positive_sum = positive_other_brands['positive_category_sum'].sum()\n",
    "other_negative_sum = negative_other_brands['negative_category_sum'].sum()\n",
    "print(other_positive_sum)\n",
    "print(other_negative_sum)"
   ]
  },
  {
   "cell_type": "code",
   "execution_count": 770,
   "id": "bf255e67-223e-41cf-af23-6043a39fb309",
   "metadata": {},
   "outputs": [],
   "source": [
    "# Create 'Other' row for positive_category_sum\n",
    "positive_other_row = pd.DataFrame({\n",
    "    'clean_brand': ['Other'],\n",
    "    'total_category_sum': [other_positive_sum],\n",
    "    'positive_category_sum': [other_positive_sum],  # Assign the total sum to positive sum for consistency\n",
    "    'negative_category_sum': [0]  # Set negative sum to 0 for plotting purposes\n",
    "})\n"
   ]
  },
  {
   "cell_type": "code",
   "execution_count": 771,
   "id": "98a87366-587a-48c4-bb36-4ec27aca3a7e",
   "metadata": {},
   "outputs": [],
   "source": [
    "# Create 'Other' row for negative_category_sum\n",
    "negative_other_row = pd.DataFrame({\n",
    "    'clean_brand': ['Other'],\n",
    "    'total_category_sum': [other_negative_sum],\n",
    "    'positive_category_sum': [0],  # Set positive sum to 0 for plotting purposes\n",
    "    'negative_category_sum': [other_negative_sum]  # Assign the total sum to negative sum for consistency\n",
    "})"
   ]
  },
  {
   "cell_type": "code",
   "execution_count": 772,
   "id": "06c597da-afe3-4aa5-83c6-497861cc1576",
   "metadata": {},
   "outputs": [],
   "source": [
    "# Combine major brands and 'Other' rows for positive_category_sum\n",
    "final_positive_df = pd.concat([positive_major_brands, positive_other_row], ignore_index=True).sort_values(by='positive_category_sum', ascending=True)\n",
    "\n",
    "# Combine major brands and 'Other' rows for negative_category_sum\n",
    "final_negative_df = pd.concat([negative_major_brands, negative_other_row], ignore_index=True).sort_values(by='negative_category_sum', ascending=True)"
   ]
  },
  {
   "cell_type": "code",
   "execution_count": 773,
   "id": "87c18e98-83e9-494c-90d3-abc0cb16a34e",
   "metadata": {},
   "outputs": [
    {
     "data": {
      "text/plain": [
       "<Figure size 1400x700 with 0 Axes>"
      ]
     },
     "execution_count": 773,
     "metadata": {},
     "output_type": "execute_result"
    },
    {
     "data": {
      "text/plain": [
       "<Figure size 1400x700 with 0 Axes>"
      ]
     },
     "metadata": {},
     "output_type": "display_data"
    }
   ],
   "source": [
    "# Plotting\n",
    "plt.figure(figsize=(14, 7))"
   ]
  },
  {
   "cell_type": "code",
   "execution_count": 774,
   "id": "b7f74b69-b6f2-4c82-9f15-16d9d9c28e7c",
   "metadata": {},
   "outputs": [
    {
     "data": {
      "image/png": "[encoded data removed]",
      "text/plain": [
       "<Figure size 640x480 with 1 Axes>"
      ]
     },
     "metadata": {},
     "output_type": "display_data"
    }
   ],
   "source": [
    "# Plotting positive_category_sum\n",
    "plt.subplot(1, 2, 1)\n",
    "plt.pie(final_positive_df['positive_category_sum'], labels=final_positive_df['clean_brand'], autopct='%1.1f%%', startangle=140)\n",
    "plt.title('Positive Category Sum by Brand')\n",
    "plt.tight_layout()"
   ]
  },
  {
   "cell_type": "code",
   "execution_count": 775,
   "id": "0b7aaf91-82f4-4b8d-a155-cd39428dd4e5",
   "metadata": {},
   "outputs": [
    {
     "data": {
      "image/png": "[encoded data removed]",
      "text/plain": [
       "<Figure size 640x480 with 1 Axes>"
      ]
     },
     "metadata": {},
     "output_type": "display_data"
    }
   ],
   "source": [
    "# Plotting negative_category_sum\n",
    "plt.subplot(1, 2, 2)\n",
    "plt.pie(final_negative_df['negative_category_sum'], labels=final_negative_df['clean_brand'], autopct='%1.1f%%', startangle=140)\n",
    "plt.title('Negative Category Sum by Brand')\n",
    "plt.tight_layout()"
   ]
  },
  {
   "cell_type": "code",
   "execution_count": 776,
   "id": "619537e6-013e-4522-89b7-ee00ab133859",
   "metadata": {},
   "outputs": [],
   "source": [
    "# Clear the previous plot\n",
    "plt.clf()\n",
    "plt.close()"
   ]
  },
  {
   "cell_type": "code",
   "execution_count": 777,
   "id": "c2841ddd-2299-4ef2-a1fe-b0116a3690fa",
   "metadata": {},
   "outputs": [
    {
     "name": "stdout",
     "output_type": "stream",
     "text": [
      "{'amazon', 'intel', 'microsoft', 'toyota', 'ge', 'samsung', 'apple', 'google', 'ibm', 'pepsi', 'nokia', 'marlboro', 'ford', 'coca', 'sony'}\n",
      "{'amazon', 'toyota', 'microsoft', 'ge', 'samsung', 'apple', 'google', 'ibm', 'pepsi', 'nokia', 'marlboro', 'ford', 'gillette'}\n"
     ]
    }
   ],
   "source": [
    "# Create sets for major brands\n",
    "positive_major_set = set(positive_major_brands['clean_brand'])\n",
    "negative_major_set = set(negative_major_brands['clean_brand'])\n",
    "print(positive_major_set)\n",
    "print(negative_major_set)"
   ]
  },
  {
   "cell_type": "code",
   "execution_count": 778,
   "id": "2f45d0d2-b6c7-426d-9f60-f720acbf3f9e",
   "metadata": {},
   "outputs": [],
   "source": [
    "# Union of positive_major_brands and negative_major_brands\n",
    "union_major_brands = positive_major_set.union(negative_major_set)"
   ]
  },
  {
   "cell_type": "code",
   "execution_count": 779,
   "id": "ef34d9ca-d20e-45d9-9c10-87dc2ab5f92d",
   "metadata": {},
   "outputs": [
    {
     "name": "stdout",
     "output_type": "stream",
     "text": [
      "{'intel', 'microsoft', 'ge', 'google', 'nokia', 'coca', 'sony', 'amazon', 'toyota', 'samsung', 'apple', 'pepsi', 'ibm', 'marlboro', 'ford', 'gillette'}\n"
     ]
    }
   ],
   "source": [
    "print(union_major_brands)"
   ]
  },
  {
   "cell_type": "code",
   "execution_count": 780,
   "id": "52fb2a3a-3c38-4ef1-9a06-d9aabd7ab444",
   "metadata": {},
   "outputs": [],
   "source": [
    "# Align positive_major_brands and negative_major_brands with union_major_brands\n",
    "positive_major_brands = grouped_df[grouped_df['clean_brand'].isin(union_major_brands)].fillna(0)\n",
    "negative_major_brands = grouped_df[grouped_df['clean_brand'].isin(union_major_brands)].fillna(0)"
   ]
  },
  {
   "cell_type": "code",
   "execution_count": 796,
   "id": "e51ed804-cfdf-4c3a-b044-e1b9ddf4f73f",
   "metadata": {},
   "outputs": [
    {
     "name": "stdout",
     "output_type": "stream",
     "text": [
      "       clean_brand  total_category_sum  positive_category_sum  \\\n",
      "0             175x                   1                    1.0   \n",
      "1         310apple                   0                    0.0   \n",
      "2         airlines                   0                    0.0   \n",
      "3          amazing                  -1                    0.0   \n",
      "5          amazona                   0                    0.0   \n",
      "..             ...                 ...                    ...   \n",
      "245          yahoo                   0                    0.0   \n",
      "246         yamaha                   0                    0.0   \n",
      "247         yooooo                   0                    0.0   \n",
      "248     youbrapple                   1                    1.0   \n",
      "249  youtubebr2012                   1                    1.0   \n",
      "\n",
      "     negative_category_sum  \n",
      "0                      0.0  \n",
      "1                      0.0  \n",
      "2                      0.0  \n",
      "3                      1.0  \n",
      "5                      0.0  \n",
      "..                     ...  \n",
      "245                    0.0  \n",
      "246                    0.0  \n",
      "247                    0.0  \n",
      "248                    0.0  \n",
      "249                    0.0  \n",
      "\n",
      "[234 rows x 4 columns]\n",
      "       clean_brand  total_category_sum  positive_category_sum  \\\n",
      "0             175x                   1                    1.0   \n",
      "1         310apple                   0                    0.0   \n",
      "2         airlines                   0                    0.0   \n",
      "3          amazing                  -1                    0.0   \n",
      "5          amazona                   0                    0.0   \n",
      "..             ...                 ...                    ...   \n",
      "245          yahoo                   0                    0.0   \n",
      "246         yamaha                   0                    0.0   \n",
      "247         yooooo                   0                    0.0   \n",
      "248     youbrapple                   1                    1.0   \n",
      "249  youtubebr2012                   1                    1.0   \n",
      "\n",
      "     negative_category_sum  \n",
      "0                      0.0  \n",
      "1                      0.0  \n",
      "2                      0.0  \n",
      "3                      1.0  \n",
      "5                      0.0  \n",
      "..                     ...  \n",
      "245                    0.0  \n",
      "246                    0.0  \n",
      "247                    0.0  \n",
      "248                    0.0  \n",
      "249                    0.0  \n",
      "\n",
      "[234 rows x 4 columns]\n"
     ]
    }
   ],
   "source": [
    "# Remove brands in positive_other_brands that are in negative_major_brands\n",
    "positive_other_brands = positive_other_brands[~positive_other_brands['clean_brand'].isin(negative_major_set)]\n",
    "\n",
    "# Remove brands in negative_other_brands that are in positive_major_brands\n",
    "negative_other_brands = negative_other_brands[~negative_other_brands['clean_brand'].isin(positive_major_set)]\n",
    "print(positive_other_brands)\n",
    "print(negative_other_brands)"
   ]
  },
  {
   "cell_type": "code",
   "execution_count": 782,
   "id": "d625c5cc-2c92-47b2-9ef5-e428b7cf173f",
   "metadata": {},
   "outputs": [],
   "source": [
    "# Combine 'Other' categories for positive and negative sums\n",
    "other_positive_sum = positive_other_brands['positive_category_sum'].sum()\n",
    "other_negative_sum = -negative_other_brands['negative_category_sum'].sum()"
   ]
  },
  {
   "cell_type": "code",
   "execution_count": 783,
   "id": "82ab44d0-1ad8-4793-b757-cae636689c84",
   "metadata": {},
   "outputs": [],
   "source": [
    "# Create 'Other' row for positive_category_sum\n",
    "positive_other_row = pd.DataFrame({\n",
    "    'clean_brand': ['Other'],\n",
    "    'total_category_sum': [other_positive_sum],\n",
    "    'positive_category_sum': [other_positive_sum],  # Assign the total sum to positive sum for consistency\n",
    "    'negative_category_sum': [0]  # Set negative sum to 0 for plotting purposes\n",
    "})"
   ]
  },
  {
   "cell_type": "code",
   "execution_count": 784,
   "id": "520999a2-8e1f-4255-8a58-3a27db855b79",
   "metadata": {},
   "outputs": [],
   "source": [
    "# Create 'Other' row for negative_category_sum\n",
    "negative_other_row = pd.DataFrame({\n",
    "    'clean_brand': ['Other'],\n",
    "    'total_category_sum': [other_negative_sum],\n",
    "    'positive_category_sum': [0],  # Set positive sum to 0 for plotting purposes\n",
    "    'negative_category_sum': [other_negative_sum]  # Assign the total sum to negative sum for consistency\n",
    "})"
   ]
  },
  {
   "cell_type": "code",
   "execution_count": 785,
   "id": "0fb4c678-e46b-4262-a9b0-4bb8960a59c0",
   "metadata": {},
   "outputs": [],
   "source": [
    "# Combine major brands and 'Other' rows for positive_category_sum\n",
    "final_positive_df = pd.concat([positive_major_brands, positive_other_row], ignore_index=True).sort_values(by='positive_category_sum', ascending=False)\n",
    "\n",
    "# Combine major brands and 'Other' rows for negative_category_sum\n",
    "final_negative_df = pd.concat([negative_major_brands, negative_other_row], ignore_index=True).sort_values(by='negative_category_sum', ascending=True)"
   ]
  },
  {
   "cell_type": "code",
   "execution_count": 786,
   "id": "63b1ccd8-1de0-4125-a040-7513a996bcdb",
   "metadata": {},
   "outputs": [
    {
     "name": "stdout",
     "output_type": "stream",
     "text": [
      "   clean_brand  total_category_sum  positive_category_sum  \\\n",
      "1        apple               -13.0                  116.0   \n",
      "11       nokia                -2.0                   76.0   \n",
      "13     samsung                74.0                  115.0   \n",
      "7          ibm                 1.0                   35.0   \n",
      "6       google                53.0                   85.0   \n",
      "10   microsoft                48.0                   66.0   \n",
      "3         ford                -6.0                   10.0   \n",
      "4           ge                -5.0                    8.0   \n",
      "9     marlboro                 2.0                   13.0   \n",
      "15      toyota                25.0                   35.0   \n",
      "0       amazon                11.0                   18.0   \n",
      "12       pepsi                10.0                   17.0   \n",
      "5     gillette                 0.0                    6.0   \n",
      "14        sony                 5.0                    9.0   \n",
      "8        intel                 8.0                   10.0   \n",
      "2         coca                 9.0                   10.0   \n",
      "16       Other                46.0                    0.0   \n",
      "\n",
      "    negative_category_sum  \n",
      "1                  -129.0  \n",
      "11                  -78.0  \n",
      "13                  -41.0  \n",
      "7                   -34.0  \n",
      "6                   -32.0  \n",
      "10                  -18.0  \n",
      "3                   -16.0  \n",
      "4                   -13.0  \n",
      "9                   -11.0  \n",
      "15                  -10.0  \n",
      "0                    -7.0  \n",
      "12                   -7.0  \n",
      "5                    -6.0  \n",
      "14                   -4.0  \n",
      "8                    -2.0  \n",
      "2                    -1.0  \n",
      "16                   46.0  \n"
     ]
    }
   ],
   "source": [
    "print(final_negative_df)"
   ]
  },
  {
   "cell_type": "code",
   "execution_count": 787,
   "id": "b71def46-faa1-4ba6-8eca-4c2036a06e1b",
   "metadata": {},
   "outputs": [],
   "source": [
    "# Ensure both dataframes have the same brands and order\n",
    "# common_brands = final_positive_df['clean_brand'].tolist()\n",
    "# final_negative_df = final_negative_df[final_negative_df['clean_brand'].isin(common_brands)]"
   ]
  },
  {
   "cell_type": "code",
   "execution_count": 788,
   "id": "ab75ce91-315e-4db3-a68c-8c3da7ce24c1",
   "metadata": {},
   "outputs": [],
   "source": [
    "# Align final_negative_df with the order of final_positive_df\n",
    "final_negative_df = final_negative_df.set_index('clean_brand').reindex(index=final_positive_df['clean_brand']).reset_index()"
   ]
  },
  {
   "cell_type": "code",
   "execution_count": 789,
   "id": "6e965c83-693f-423a-98cb-14afef455e7b",
   "metadata": {},
   "outputs": [
    {
     "name": "stdout",
     "output_type": "stream",
     "text": [
      "   clean_brand  total_category_sum  positive_category_sum  \\\n",
      "0        apple               -13.0                  116.0   \n",
      "1      samsung                74.0                  115.0   \n",
      "2        Other                46.0                    0.0   \n",
      "3       google                53.0                   85.0   \n",
      "4        nokia                -2.0                   76.0   \n",
      "5    microsoft                48.0                   66.0   \n",
      "6       toyota                25.0                   35.0   \n",
      "7          ibm                 1.0                   35.0   \n",
      "8       amazon                11.0                   18.0   \n",
      "9        pepsi                10.0                   17.0   \n",
      "10    marlboro                 2.0                   13.0   \n",
      "11        ford                -6.0                   10.0   \n",
      "12        coca                 9.0                   10.0   \n",
      "13       intel                 8.0                   10.0   \n",
      "14        sony                 5.0                    9.0   \n",
      "15          ge                -5.0                    8.0   \n",
      "16    gillette                 0.0                    6.0   \n",
      "\n",
      "    negative_category_sum  \n",
      "0                  -129.0  \n",
      "1                   -41.0  \n",
      "2                    46.0  \n",
      "3                   -32.0  \n",
      "4                   -78.0  \n",
      "5                   -18.0  \n",
      "6                   -10.0  \n",
      "7                   -34.0  \n",
      "8                    -7.0  \n",
      "9                    -7.0  \n",
      "10                  -11.0  \n",
      "11                  -16.0  \n",
      "12                   -1.0  \n",
      "13                   -2.0  \n",
      "14                   -4.0  \n",
      "15                  -13.0  \n",
      "16                   -6.0  \n"
     ]
    }
   ],
   "source": [
    "print(final_negative_df)"
   ]
  },
  {
   "cell_type": "code",
   "execution_count": 790,
   "id": "5f343bdc-c6a6-4c41-ad68-223ee67b89a9",
   "metadata": {},
   "outputs": [
    {
     "name": "stdout",
     "output_type": "stream",
     "text": [
      "   clean_brand  total_category_sum  positive_category_sum  \\\n",
      "1        apple               -13.0                  116.0   \n",
      "13     samsung                74.0                  115.0   \n",
      "16       Other               108.0                  108.0   \n",
      "6       google                53.0                   85.0   \n",
      "11       nokia                -2.0                   76.0   \n",
      "10   microsoft                48.0                   66.0   \n",
      "15      toyota                25.0                   35.0   \n",
      "7          ibm                 1.0                   35.0   \n",
      "0       amazon                11.0                   18.0   \n",
      "12       pepsi                10.0                   17.0   \n",
      "9     marlboro                 2.0                   13.0   \n",
      "3         ford                -6.0                   10.0   \n",
      "2         coca                 9.0                   10.0   \n",
      "8        intel                 8.0                   10.0   \n",
      "14        sony                 5.0                    9.0   \n",
      "4           ge                -5.0                    8.0   \n",
      "5     gillette                 0.0                    6.0   \n",
      "\n",
      "    negative_category_sum  \n",
      "1                  -129.0  \n",
      "13                  -41.0  \n",
      "16                    0.0  \n",
      "6                   -32.0  \n",
      "11                  -78.0  \n",
      "10                  -18.0  \n",
      "15                  -10.0  \n",
      "7                   -34.0  \n",
      "0                    -7.0  \n",
      "12                   -7.0  \n",
      "9                   -11.0  \n",
      "3                   -16.0  \n",
      "2                    -1.0  \n",
      "8                    -2.0  \n",
      "14                   -4.0  \n",
      "4                   -13.0  \n",
      "5                    -6.0  \n"
     ]
    }
   ],
   "source": [
    "print(final_positive_df)"
   ]
  },
  {
   "cell_type": "code",
   "execution_count": 791,
   "id": "55dba2ee-6261-4a08-988b-6be08048826b",
   "metadata": {},
   "outputs": [
    {
     "data": {
      "text/plain": [
       "<Figure size 1400x700 with 0 Axes>"
      ]
     },
     "execution_count": 791,
     "metadata": {},
     "output_type": "execute_result"
    },
    {
     "data": {
      "text/plain": [
       "<Figure size 1400x700 with 0 Axes>"
      ]
     },
     "metadata": {},
     "output_type": "display_data"
    }
   ],
   "source": [
    "# Plotting\n",
    "plt.figure(figsize=(14, 7))"
   ]
  },
  {
   "cell_type": "code",
   "execution_count": 792,
   "id": "66c54b7b-74ef-4704-8992-70c00ecf359f",
   "metadata": {},
   "outputs": [],
   "source": [
    "# Create the mirrored histogram\n",
    "brands = final_positive_df['clean_brand']\n",
    "positive_values = final_positive_df['positive_category_sum']\n",
    "negative_values = final_negative_df['negative_category_sum']"
   ]
  },
  {
   "cell_type": "code",
   "execution_count": 793,
   "id": "f39f0ad3-7938-49ce-b0da-f2d05e8d7ac2",
   "metadata": {},
   "outputs": [],
   "source": [
    "# Define bin positions and heights\n",
    "n_bins = len(brands)\n",
    "bin_width = 0.35"
   ]
  },
  {
   "cell_type": "code",
   "execution_count": 794,
   "id": "cebc3cca-6d2c-41fd-bd6b-7163bb2925dd",
   "metadata": {},
   "outputs": [
    {
     "data": {
      "text/plain": [
       "<BarContainer object of 17 artists>"
      ]
     },
     "execution_count": 794,
     "metadata": {},
     "output_type": "execute_result"
    },
    {
     "data": {
      "image/png": "[encoded data removed]",
      "text/plain": [
       "<Figure size 640x480 with 1 Axes>"
      ]
     },
     "metadata": {},
     "output_type": "display_data"
    }
   ],
   "source": [
    "# Plot positive values (top histogram)\n",
    "plt.barh(brands, positive_values, color='g', align='center')\n",
    "\n",
    "# Plot negative values (bottom histogram, converted to positive for visualization)\n",
    "plt.barh(brands, negative_values, color='r', align='center')"
   ]
  },
  {
   "cell_type": "code",
   "execution_count": 795,
   "id": "4f90b96c-5910-4196-9774-cf1ad19d6df1",
   "metadata": {},
   "outputs": [
    {
     "data": {
      "text/plain": [
       "<Figure size 640x480 with 0 Axes>"
      ]
     },
     "metadata": {},
     "output_type": "display_data"
    }
   ],
   "source": [
    "plt.tight_layout()\n",
    "plt.show()"
   ]
  }
 ],
 "metadata": {
  "kernelspec": {
   "display_name": "Python 3 (ipykernel)",
   "language": "python",
   "name": "python3"
  },
  "language_info": {
   "codemirror_mode": {
    "name": "ipython",
    "version": 3
   },
   "file_extension": ".py",
   "mimetype": "text/x-python",
   "name": "python",
   "nbconvert_exporter": "python",
   "pygments_lexer": "ipython3",
   "version": "3.11.7"
  }
 },
 "nbformat": 4,
 "nbformat_minor": 5
}
